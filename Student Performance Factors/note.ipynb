{
 "cells": [
  {
   "cell_type": "raw",
   "id": "bf230754-cbb5-4ef0-b36a-f81d3e8d379a",
   "metadata": {},
   "source": [
    "Hours_Studied\tNumber of hours spent studying per week.\n",
    "Attendance\tPercentage of classes attended.\n",
    "Parental_Involvement\tLevel of parental involvement in the student's education (Low, Medium, High).\n",
    "Access_to_Resources\tAvailability of educational resources (Low, Medium, High).\n",
    "Extracurricular_Activities\tParticipation in extracurricular activities (Yes, No).\n",
    "Sleep_Hours\tAverage number of hours of sleep per night.\n",
    "Previous_Scores\tScores from previous exams.\n",
    "Motivation_Level\tStudent's level of motivation (Low, Medium, High).\n",
    "Internet_Access\tAvailability of internet access (Yes, No).\n",
    "Tutoring_Sessions\tNumber of tutoring sessions attended per month.\n",
    "Family_Income\tFamily income level (Low, Medium, High).\n",
    "Teacher_Quality\tQuality of the teachers (Low, Medium, High).\n",
    "School_Type\tType of school attended (Public, Private).\n",
    "Peer_Influence\tInfluence of peers on academic performance (Positive, Neutral, Negative).\n",
    "Physical_Activity\tAverage number of hours of physical activity per week.\n",
    "Learning_Disabilities\tPresence of learning disabilities (Yes, No).\n",
    "Parental_Education_Level\tHighest education level of parents (High School, College, Postgraduate).\n",
    "Distance_from_Home\tDistance from home to school (Near, Moderate, Far).\n",
    "Gender\tGender of the student (Male, Female).\n",
    "Exam_Score\tFinal exam score."
   ]
  },
  {
   "cell_type": "raw",
   "id": "45c0f68a-481a-4d64-8424-088b07779561",
   "metadata": {},
   "source": [
    "Giờ_Đã_học\tSố giờ dành cho việc học mỗi tuần.\n",
    "Sự tham dự\tTỷ lệ phần trăm lớp học đã tham dự.\n",
    "Sự tham gia của phụ huynh\tMức độ tham gia của phụ huynh vào việc học tập của học sinh (Thấp, Trung bình, Cao).\n",
    "Truy cập vào tài nguyên\tTính sẵn có của các nguồn lực giáo dục (Thấp, Trung bình, Cao).\n",
    "Hoạt động ngoại khóa\tTham gia các hoạt động ngoại khóa (Có, Không).\n",
    "Giờ ngủ\tSố giờ ngủ trung bình mỗi đêm.\n",
    "Điểm số trước đó\tĐiểm của các kỳ thi trước.\n",
    "Động lực_Mức độ\tMức độ động lực của học sinh (Thấp, Trung bình, Cao).\n",
    "Truy cập Internet\tCó thể truy cập internet (Có, Không).\n",
    "Buổi học kèm\tSố buổi học kèm tham dự mỗi tháng.\n",
    "Thu nhập gia đình\tMức thu nhập gia đình (Thấp, Trung bình, Cao).\n",
    "Chất lượng giáo viên\tChất lượng giáo viên (Thấp, Trung bình, Cao).\n",
    "Loại trường học\tLoại trường học đã theo học (Công lập, Tư thục).\n",
    "Ảnh hưởng của bạn bè\tẢnh hưởng của bạn bè đến kết quả học tập (Tích cực, Trung lập, Tiêu cực).\n",
    "Hoạt động thể chất\tSố giờ hoạt động thể chất trung bình mỗi tuần.\n",
    "Khuyết tật học tập\tCó khuyết tật học tập (Có, Không).\n",
    "Trình độ học vấn của cha mẹ\tTrình độ học vấn cao nhất của cha mẹ (Trung học phổ thông, Cao đẳng, Sau đại học).\n",
    "Khoảng cách từ nhà\tKhoảng cách từ nhà đến trường (Gần, Trung bình, Xa).\n",
    "Giới tính\tGiới tính của học sinh (Nam, Nữ).\n",
    "Điểm thi\tĐiểm thi cuối kỳ."
   ]
  },
  {
   "cell_type": "raw",
   "id": "e26e1f14-09e2-41f1-a174-b2077a49c4f1",
   "metadata": {},
   "source": [
    "Mô hình Random Forest được chọn cho bài toán này vì các lý do sau:\n",
    "\n",
    "1. Đặc điểm dữ liệu phù hợp với Random Forest\n",
    "Dữ liệu có nhiều cột, bao gồm cả biến số (numerical features) và biến phân loại (categorical features). Random Forest hoạt động tốt với các loại dữ liệu hỗn hợp này vì:\n",
    "\n",
    "Không yêu cầu biến đầu vào phải được chuẩn hóa hoặc biến đổi đặc biệt.\n",
    "Tự động xử lý các đặc trưng không tuyến tính.\n",
    "Không bị ảnh hưởng lớn bởi các biến dư thừa hoặc không quan trọng.\n",
    "2. Mô hình mạnh mẽ và linh hoạt\n",
    "Random Forest là một tập hợp (ensemble) các cây quyết định (decision trees), giúp:\n",
    "Tăng độ chính xác nhờ giảm phương sai (variance) qua trung bình hóa dự đoán của nhiều cây.\n",
    "Giảm hiện tượng overfitting, thường gặp ở các cây quyết định đơn lẻ (Decision Tree).\n",
    "Có thể giải quyết bài toán hồi quy (như dữ liệu Exam_Score trong trường hợp này) lẫn bài toán phân loại.\n",
    "3. Tự động chọn đặc trưng quan trọng\n",
    "Random Forest tự động đo lường mức độ quan trọng của từng đặc trưng (feature importance). Với dữ liệu gồm nhiều cột như thế này, tính năng này giúp:\n",
    "\n",
    "Hiểu rõ các yếu tố ảnh hưởng lớn nhất đến điểm thi (Exam_Score).\n",
    "Loại bỏ hoặc giảm trọng số các đặc trưng không quan trọng, cải thiện hiệu suất.\n",
    "4. Không cần giả định phân phối dữ liệu\n",
    "Không giống như các mô hình hồi quy tuyến tính (Linear Regression), Random Forest không giả định rằng:\n",
    "\n",
    "Mối quan hệ giữa đầu vào và đầu ra phải tuyến tính.\n",
    "Dữ liệu phải tuân theo một phân phối chuẩn (Normal distribution).\n",
    "Điều này rất hữu ích cho dữ liệu thực tế, thường không tuân theo các giả định lý thuyết.\n",
    "\n",
    "5. Chống chịu tốt với nhiễu và ngoại lệ\n",
    "Random Forest hoạt động tốt ngay cả khi dữ liệu có nhiễu (noise) hoặc ngoại lệ (outliers), nhờ cơ chế bỏ qua một số quan sát khi xây dựng từng cây (bagging).\n",
    "\n",
    "6. Dễ dàng tối ưu và tùy chỉnh\n",
    "Có nhiều siêu tham số (hyperparameters) để điều chỉnh, như số lượng cây (n_estimators), độ sâu của cây (max_depth), và số lượng đặc trưng khi chia nhánh (max_features).\n",
    "Sử dụng RandomizedSearchCV hoặc GridSearchCV giúp tìm ra cấu hình tối ưu cho bài toán.\n",
    "Khi nào không nên dùng Random Forest\n",
    "Nếu dữ liệu rất lớn, Random Forest có thể chậm hơn so với các mô hình đơn giản như Linear Regression hoặc Gradient Boosting.\n",
    "Nếu giải thích kết quả là yêu cầu bắt buộc, Random Forest có thể khó giải thích hơn so với các mô hình tuyến tính.\n",
    "Tóm lại\n",
    "Random Forest được sử dụng vì tính linh hoạt, khả năng hoạt động tốt trên dữ liệu hỗn hợp, và độ chính xác cao, đặc biệt khi làm việc với dữ liệu thực tế phức tạp như trong bài toán này."
   ]
  },
  {
   "cell_type": "code",
   "execution_count": null,
   "id": "7002c46a-e15c-4d47-9323-e08acbfeca39",
   "metadata": {},
   "outputs": [],
   "source": []
  }
 ],
 "metadata": {
  "kernelspec": {
   "display_name": "Python 3 (ipykernel)",
   "language": "python",
   "name": "python3"
  },
  "language_info": {
   "codemirror_mode": {
    "name": "ipython",
    "version": 3
   },
   "file_extension": ".py",
   "mimetype": "text/x-python",
   "name": "python",
   "nbconvert_exporter": "python",
   "pygments_lexer": "ipython3",
   "version": "3.12.4"
  }
 },
 "nbformat": 4,
 "nbformat_minor": 5
}
